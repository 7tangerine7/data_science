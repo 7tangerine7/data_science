{
 "cells": [
  {
   "cell_type": "code",
   "execution_count": 3,
   "metadata": {},
   "outputs": [
    {
     "name": "stdout",
     "output_type": "stream",
     "text": [
      "VHI is downloaded...\n"
     ]
    }
   ],
   "source": [
    "\n",
    "from urllib import request\n",
    "import time\n",
    "import datetime\n",
    "import os\n",
    "t = datetime.datetime.now()\n",
    "num = [24,25,5,6,27,23,26,7,11,13,14,15,16,17,18,19,21,22,8,9,10,1,3,2,4]\n",
    "def modify():\n",
    "    now=str(t.date())+'_t'+str(t.hour)+':'+str(t.minute)\n",
    "    return now\n",
    "# for ind in range(1, 26):\n",
    "#     url=\"https://www.star.nesdis.noaa.gov/smcd/emb/vci/VH/get_TS_admin.php?country=UKR&provinceID=%s&year1=1981&year2=2020&type=Mean\"%(num[ind-1])\n",
    "#     vhi_url = request.urlopen(url)\n",
    "#     out = open('vhi_id_%s.csv'%(ind),'wb')\n",
    "#     out.write(vhi_url.read())\n",
    "#     out.close()\n",
    "print (\"VHI is downloaded...\")"
   ]
  },
  {
   "cell_type": "code",
   "execution_count": 42,
   "metadata": {
    "scrolled": false
   },
   "outputs": [
    {
     "name": "stdout",
     "output_type": "stream",
     "text": [
      "       year  week    SMN     SMT    VCI    TCI    VHI  region\n",
      "0      1982   3.0  0.076  267.19  69.37  20.40  44.88       1\n",
      "1      1982   4.0  0.075  268.57  65.26  17.93  41.60       1\n",
      "2      1982   5.0  0.072  269.24  58.58  20.00  39.29       1\n",
      "3      1982   6.0  0.071  270.12  52.37  22.93  37.65       1\n",
      "4      1982   7.0  0.069  271.42  46.52  23.54  35.03       1\n",
      "...     ...   ...    ...     ...    ...    ...    ...     ...\n",
      "48445  2020  11.0  0.210  288.78  69.35   4.02  36.60      25\n",
      "48446  2020  12.0  0.230  290.13  69.17   4.57  36.78      25\n",
      "48447  2020  13.0  0.247  291.42  67.31   7.18  37.17      25\n",
      "48448  2020  14.0  0.262  292.56  64.64  11.38  37.95      25\n",
      "48449  2020  15.0  0.271  293.44  59.83  16.42  38.06      25\n",
      "\n",
      "[48450 rows x 8 columns]\n"
     ]
    }
   ],
   "source": [
    "import pandas as pd\n",
    "#import os\n",
    "files = os.listdir(os.path.abspath(os.curdir))\n",
    "list=[]\n",
    "for i in files:\n",
    "    if i.endswith(\".csv\"): list.append(i)     \n",
    "def general(x):\n",
    "    df = pd.read_csv('vhi_id_%s.csv'%(x),index_col=False, header=1)\n",
    "    df.drop(df.columns[7], axis=1, inplace=True) \n",
    "    df.columns=['year', 'week', 'SMN', 'SMT', 'VCI', 'TCI', 'VHI']\n",
    "    df['region'] = x\n",
    "    df = df.loc[~df['VHI'].isin([-1,'NaN'])]\n",
    "    return df      \n",
    "df=pd.concat([general(x) for x in range(1, 26)], ignore_index=True, sort=False)\n",
    "\n",
    "print(df)"
   ]
  },
  {
   "cell_type": "code",
   "execution_count": 4,
   "metadata": {},
   "outputs": [
    {
     "name": "stdout",
     "output_type": "stream",
     "text": [
      "C:\\Users\\tangerine\\ds\n"
     ]
    }
   ],
   "source": [
    "print(os.path.abspath(os.curdir))"
   ]
  },
  {
   "cell_type": "code",
   "execution_count": 43,
   "metadata": {
    "scrolled": true
   },
   "outputs": [
    {
     "name": "stdout",
     "output_type": "stream",
     "text": [
      "Екстермальна посуха\n",
      "41642    14.64\n",
      "41643    11.82\n",
      "41644    10.81\n",
      "41645    10.68\n",
      "41646    12.30\n",
      "41647    14.24\n",
      "Name: VHI, dtype: float64\n",
      "Помірна посуха\n",
      "40700    34.06\n",
      "40701    33.01\n",
      "40702    31.65\n",
      "40703    31.40\n",
      "40704    31.73\n",
      "         ...  \n",
      "42614    24.41\n",
      "42615    30.80\n",
      "42616    34.49\n",
      "42634    32.07\n",
      "42635    29.05\n",
      "Name: VHI, Length: 241, dtype: float64\n"
     ]
    }
   ],
   "source": [
    "def analyze(region,crit1,crit2):\n",
    "    data=df[(df['region']==region) & (df['VHI']<crit1) & (df['VHI']>crit2)]\n",
    "    print(data.VHI)\n",
    "print('Екстермальна посуха')\n",
    "analyze(22,15,0)\n",
    "print('Помірна посуха')\n",
    "analyze(22,35,15)\n",
    "    "
   ]
  },
  {
   "cell_type": "code",
   "execution_count": 44,
   "metadata": {},
   "outputs": [
    {
     "name": "stdout",
     "output_type": "stream",
     "text": [
      "    year  VHI_max  VHI_min\n",
      "0   1982    84.29    19.92\n",
      "1   1983    73.25    23.05\n",
      "2   1984    86.60    12.64\n",
      "3   1985    75.63    18.00\n",
      "4   1986    63.39    12.45\n",
      "5   1987    76.10    20.90\n",
      "6   1988    79.36    22.58\n",
      "7   1989    68.86    18.04\n",
      "8   1990    76.19    18.62\n",
      "9   1991    73.29    24.40\n",
      "10  1992    76.87    15.68\n",
      "11  1993    85.63     6.26\n",
      "12  1994    83.28    11.91\n",
      "13  1995    71.67    16.73\n",
      "14  1996    86.60    18.93\n",
      "15  1997    96.69    25.01\n",
      "16  1998    80.55    30.30\n",
      "17  1999    80.35    21.31\n",
      "18  2000    74.45     9.36\n",
      "19  2001    86.27    22.30\n",
      "20  2002    77.60    20.70\n",
      "21  2003    91.42    14.53\n",
      "22  2004    89.38    32.14\n",
      "23  2005    77.32    23.99\n",
      "24  2006    72.89    25.63\n",
      "25  2007    65.49     5.52\n",
      "26  2008    83.46    24.03\n",
      "27  2009    66.47    18.18\n",
      "28  2010    74.85    18.41\n",
      "29  2011    74.96    20.05\n",
      "30  2012    71.05    13.54\n",
      "31  2013    70.07    27.10\n",
      "32  2014    74.95    19.95\n",
      "33  2015    71.33    18.41\n",
      "34  2016    84.48    27.33\n",
      "35  2017    76.08    18.54\n",
      "36  2018    73.27    22.83\n",
      "37  2019    74.19    18.02\n",
      "38  2020    55.16    28.35\n"
     ]
    }
   ],
   "source": [
    "def VHI_year(x):\n",
    "    dop=df[(df['year']==str(x))]\n",
    "    return(dop.VHI)\n",
    "d={\"year\":df.year}\n",
    "data=pd.DataFrame(d)\n",
    "data.drop_duplicates(inplace=True)\n",
    "years=df['year'].unique()\n",
    "data['VHI_max']= [VHI_year(x).max() for x in years]\n",
    "data['VHI_min']=[VHI_year(x).min() for x in years]\n",
    "data = data.reset_index(drop=True)\n",
    "print(data)\n",
    " "
   ]
  },
  {
   "cell_type": "code",
   "execution_count": 2,
   "metadata": {},
   "outputs": [
    {
     "name": "stdout",
     "output_type": "stream",
     "text": [
      "['1982' '1983' '1984' '1985' '1986' '1987' '1988' '1989' '1990' '1991'\n",
      " '1992' '1993' '1994' '1995' '1996' '1997' '1998' '1999' '2000' '2001'\n",
      " '2002' '2003' '2004' '2005' '2006' '2007' '2008' '2009' '2010' '2011'\n",
      " '2012' '2013' '2014' '2015' '2016' '2017' '2018' '2019' '2020']\n"
     ]
    }
   ],
   "source": [
    "print(df['year'].unique())"
   ]
  },
  {
   "cell_type": "code",
   "execution_count": 45,
   "metadata": {},
   "outputs": [
    {
     "name": "stdout",
     "output_type": "stream",
     "text": [
      "    year    VHI\n",
      "0   1982  84.29\n",
      "1   1983  73.25\n",
      "2   1984  86.60\n",
      "3   1985  75.63\n",
      "4   1986  63.39\n",
      "5   1987  76.10\n",
      "6   1988  79.36\n",
      "7   1989  68.86\n",
      "8   1990  76.19\n",
      "9   1991  73.29\n",
      "10  1992  76.87\n",
      "11  1993  85.63\n",
      "12  1994  83.28\n",
      "13  1995  71.67\n",
      "14  1996  86.60\n",
      "15  1997  96.69\n",
      "16  1998  80.55\n",
      "17  1999  80.35\n",
      "18  2000  74.45\n",
      "19  2001  86.27\n",
      "20  2002  77.60\n",
      "21  2003  91.42\n",
      "22  2004  89.38\n",
      "23  2005  77.32\n",
      "24  2006  72.89\n",
      "25  2007  65.49\n",
      "26  2008  83.46\n",
      "27  2009  66.47\n",
      "28  2010  74.85\n",
      "29  2011  74.96\n",
      "30  2012  71.05\n",
      "31  2013  70.07\n",
      "32  2014  74.95\n",
      "33  2015  71.33\n",
      "34  2016  84.48\n",
      "35  2017  76.08\n",
      "36  2018  73.27\n",
      "37  2019  74.19\n",
      "38  2020  55.16\n"
     ]
    }
   ],
   "source": [
    "data2=df.groupby('year', group_keys=False).apply(lambda x: x.nlargest(1, 'VHI'))\n",
    "data2=data2[['year','VHI']]\n",
    "data2 = data2.reset_index(drop=True)\n",
    "print(data2)#тут тільки макс значення"
   ]
  },
  {
   "cell_type": "code",
   "execution_count": 46,
   "metadata": {},
   "outputs": [
    {
     "name": "stdout",
     "output_type": "stream",
     "text": [
      "             VHI_max  VHI_min\n",
      "region year                  \n",
      "1      1982    59.42    19.92\n",
      "       1983    54.04    31.16\n",
      "       1984    76.06    31.54\n",
      "       1985    60.35    33.15\n",
      "       1986    44.45    23.15\n",
      "...              ...      ...\n",
      "25     2016    67.79    31.14\n",
      "       2017    60.38    21.17\n",
      "       2018    49.17    22.83\n",
      "       2019    58.77    18.85\n",
      "       2020    38.06    28.35\n",
      "\n",
      "[975 rows x 2 columns]\n"
     ]
    }
   ],
   "source": [
    "data3=df.groupby(['region','year'], group_keys=False).apply(lambda x: pd.Series(dict(VHI_max=x.VHI.max(), VHI_min=x.VHI.min())))\n",
    "print(data3)"
   ]
  },
  {
   "cell_type": "code",
   "execution_count": 48,
   "metadata": {},
   "outputs": [
    {
     "name": "stdout",
     "output_type": "stream",
     "text": [
      "            VHI_max  VHI_min\n",
      "month year                  \n",
      "1     1982    51.37    31.06\n",
      "      1983    59.53    30.12\n",
      "      1984    73.81    28.47\n",
      "      1986    54.37    23.84\n",
      "      1987    63.29    39.49\n",
      "...             ...      ...\n",
      "12    2015    54.52    26.70\n",
      "      2016    54.83    38.02\n",
      "      2017    52.03    30.36\n",
      "      2018    57.03    35.04\n",
      "      2019    47.98    23.75\n",
      "\n",
      "[452 rows x 2 columns]\n"
     ]
    }
   ],
   "source": [
    "data4=df\n",
    "data4['month']=(df['week']/(4.34)).astype('int')+1\n",
    "#data4['month']=data4['month'].astype('int')+1\n",
    "data4=data4.groupby(['month','year'], group_keys=False).apply(lambda x: pd.Series(dict(VHI_max=(x.VHI).max(), VHI_min=(x.VHI).min())))\n",
    "#data4=data4.groupby(['month','year'], group_keys=False).apply()\n",
    "print(data4)"
   ]
  },
  {
   "cell_type": "code",
   "execution_count": 55,
   "metadata": {},
   "outputs": [
    {
     "name": "stdout",
     "output_type": "stream",
     "text": [
      "       month year_max\n",
      "28241      1     2004\n",
      "6961       2     2005\n",
      "33803      3     1999\n",
      "1315       4     2008\n",
      "24229      5     2001\n",
      "24230      6     2001\n",
      "6588       7     1997\n",
      "12406      8     1997\n",
      "12407      9     1997\n",
      "12360     10     1996\n",
      "8748      11     2001\n",
      "28240     12     2003\n",
      "    month year_min year_max\n",
      "0       1     1994     2004\n",
      "1       2     1989     2005\n",
      "2       3     1986     1999\n",
      "3       4     1986     2008\n",
      "4       5     2003     2001\n",
      "5       6     2007     2001\n",
      "6       7     2007     1997\n",
      "7       8     2007     1997\n",
      "8       9     2007     1997\n",
      "9      10     2012     1996\n",
      "10     11     2000     2001\n",
      "11     12     1993     2003\n"
     ]
    }
   ],
   "source": [
    "# #data6=data4\n",
    "# data4=data4.loc[df['VHI_max'].max()]\n",
    "# data6['VHI_max']= [VHI_year(x).max() for x in years]\n",
    "# data6.loc[(df['column_name'] >= A) & (df['column_name'] <= B)]\n",
    "# data6['max_year'][data4['year']] x.nlargest(1, 'VHI')\n",
    "data4=df.groupby(['month'], group_keys=False).apply(lambda x: x.nlargest(1, 'VHI'))\n",
    "data4=data4[['month','year']]\n",
    "data4=data4.rename(columns={\"year\": \"year_max\"})\n",
    "data5=df.groupby(['month'], group_keys=False).apply(lambda x: x.nsmallest(1, 'VHI'))\n",
    "data5=data5[['month','year']]\n",
    "data5=data5.rename(columns={\"year\": \"year_min\"})\n",
    "#df1=pd.concat([data4,data5], ignore_index=True, sort=False)\n",
    "#data4['']\n",
    "data5=data5.merge(data4) \n",
    "print(data4)\n",
    "print(data5)\n",
    "#print(df1)"
   ]
  }
 ],
 "metadata": {
  "kernelspec": {
   "display_name": "Python 3",
   "language": "python",
   "name": "python3"
  },
  "language_info": {
   "codemirror_mode": {
    "name": "ipython",
    "version": 3
   },
   "file_extension": ".py",
   "mimetype": "text/x-python",
   "name": "python",
   "nbconvert_exporter": "python",
   "pygments_lexer": "ipython3",
   "version": "3.7.6"
  }
 },
 "nbformat": 4,
 "nbformat_minor": 4
}
